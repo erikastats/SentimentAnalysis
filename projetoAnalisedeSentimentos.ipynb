{
 "cells": [
  {
   "cell_type": "markdown",
   "id": "d5115209",
   "metadata": {},
   "source": [
    "## Deep Learning Para Aplicações de Inteligência Artificial\n",
    "### Fine-Tunin de um Modelo Transformer Para Classificação de Sentimento\n"
   ]
  },
  {
   "cell_type": "code",
   "execution_count": 97,
   "id": "3a8dd7ce",
   "metadata": {},
   "outputs": [],
   "source": [
    "# Imports\n",
    "import math\n",
    "import nltk\n",
    "import spacy\n",
    "import numpy as np \n",
    "import pandas as pd\n",
    "import tensorflow as tf\n",
    "import matplotlib.pyplot as plt\n",
    "import transformers\n",
    "from tokenizers import BertWordPieceTokenizer\n",
    "from tqdm import tqdm\n",
    "from nltk.corpus import stopwords\n",
    "from sklearn.preprocessing import LabelEncoder\n",
    "from sklearn.feature_extraction.text import TfidfTransformer, TfidfVectorizer\n",
    "from sklearn.model_selection import train_test_split\n",
    "from sklearn.utils.class_weight import compute_class_weight\n",
    "from sklearn.metrics import confusion_matrix, accuracy_score, classification_report\n",
    "from tensorflow import keras\n",
    "from keras.utils import to_categorical\n",
    "# from keras.preprocessing.text import Tokenizer\n",
    "from tensorflow.keras.layers import TextVectorization\n",
    "from keras.metrics import Precision, Recall, AUC\n",
    "from tensorflow.keras.preprocessing.sequence import pad_sequences\n",
    "from tensorflow.keras.models import Sequential, load_model\n",
    "from keras.layers import Embedding, LSTM, Dense, Dropout, Bidirectional\n",
    "from keras.callbacks import EarlyStopping, LearningRateScheduler, CallbackList, ReduceLROnPlateau\n",
    "from tensorflow.keras.optimizers import Adam"
   ]
  },
  {
   "cell_type": "markdown",
   "id": "6fb83fa6",
   "metadata": {},
   "source": [
    "Carregando os Dados de Texto"
   ]
  },
  {
   "cell_type": "code",
   "execution_count": 3,
   "id": "ebf7c89b",
   "metadata": {},
   "outputs": [],
   "source": [
    "# Loading train data\n",
    "dados_dsa_treino = pd.read_csv('dados_treino.txt', header = None, delimiter = ';')\n"
   ]
  },
  {
   "cell_type": "code",
   "execution_count": 4,
   "id": "a4ab4aef",
   "metadata": {},
   "outputs": [],
   "source": [
    "# Loading test data\n",
    "dados_dsa_teste = pd.read_csv('dados_teste.txt', header = None, delimiter = ';')"
   ]
  },
  {
   "cell_type": "code",
   "execution_count": 5,
   "id": "194fbbf6",
   "metadata": {},
   "outputs": [],
   "source": [
    "# Renaming\n",
    "dados_dsa_teste = dados_dsa_teste.rename(columns = {0 : 'texto', 1 : 'sentimento'})\n",
    "dados_dsa_treino = dados_dsa_treino.rename(columns  = {0: 'texto', 1 : 'sentimento'})"
   ]
  },
  {
   "cell_type": "code",
   "execution_count": 6,
   "id": "33453aa3",
   "metadata": {},
   "outputs": [
    {
     "name": "stdout",
     "output_type": "stream",
     "text": [
      "(2000, 2)\n"
     ]
    },
    {
     "data": {
      "text/html": [
       "<div>\n",
       "<style scoped>\n",
       "    .dataframe tbody tr th:only-of-type {\n",
       "        vertical-align: middle;\n",
       "    }\n",
       "\n",
       "    .dataframe tbody tr th {\n",
       "        vertical-align: top;\n",
       "    }\n",
       "\n",
       "    .dataframe thead th {\n",
       "        text-align: right;\n",
       "    }\n",
       "</style>\n",
       "<table border=\"1\" class=\"dataframe\">\n",
       "  <thead>\n",
       "    <tr style=\"text-align: right;\">\n",
       "      <th></th>\n",
       "      <th>texto</th>\n",
       "      <th>sentimento</th>\n",
       "    </tr>\n",
       "  </thead>\n",
       "  <tbody>\n",
       "    <tr>\n",
       "      <th>0</th>\n",
       "      <td>i am feeling completely overwhelmed i have two...</td>\n",
       "      <td>fear</td>\n",
       "    </tr>\n",
       "    <tr>\n",
       "      <th>1</th>\n",
       "      <td>i have the feeling she was amused and delighted</td>\n",
       "      <td>joy</td>\n",
       "    </tr>\n",
       "    <tr>\n",
       "      <th>2</th>\n",
       "      <td>i was able to help chai lifeline with your sup...</td>\n",
       "      <td>joy</td>\n",
       "    </tr>\n",
       "    <tr>\n",
       "      <th>3</th>\n",
       "      <td>i already feel like i fucked up though because...</td>\n",
       "      <td>anger</td>\n",
       "    </tr>\n",
       "    <tr>\n",
       "      <th>4</th>\n",
       "      <td>i still love my so and wish the best for him i...</td>\n",
       "      <td>sadness</td>\n",
       "    </tr>\n",
       "  </tbody>\n",
       "</table>\n",
       "</div>"
      ],
      "text/plain": [
       "                                               texto sentimento\n",
       "0  i am feeling completely overwhelmed i have two...       fear\n",
       "1    i have the feeling she was amused and delighted        joy\n",
       "2  i was able to help chai lifeline with your sup...        joy\n",
       "3  i already feel like i fucked up though because...      anger\n",
       "4  i still love my so and wish the best for him i...    sadness"
      ]
     },
     "execution_count": 6,
     "metadata": {},
     "output_type": "execute_result"
    }
   ],
   "source": [
    "# Shape\n",
    "print(dados_dsa_teste.shape)\n",
    "# Sample\n",
    "dados_dsa_treino.head()"
   ]
  },
  {
   "cell_type": "code",
   "execution_count": 7,
   "id": "defeaf65",
   "metadata": {},
   "outputs": [
    {
     "name": "stdout",
     "output_type": "stream",
     "text": [
      "(16000, 2)\n"
     ]
    },
    {
     "data": {
      "text/html": [
       "<div>\n",
       "<style scoped>\n",
       "    .dataframe tbody tr th:only-of-type {\n",
       "        vertical-align: middle;\n",
       "    }\n",
       "\n",
       "    .dataframe tbody tr th {\n",
       "        vertical-align: top;\n",
       "    }\n",
       "\n",
       "    .dataframe thead th {\n",
       "        text-align: right;\n",
       "    }\n",
       "</style>\n",
       "<table border=\"1\" class=\"dataframe\">\n",
       "  <thead>\n",
       "    <tr style=\"text-align: right;\">\n",
       "      <th></th>\n",
       "      <th>texto</th>\n",
       "      <th>sentimento</th>\n",
       "    </tr>\n",
       "  </thead>\n",
       "  <tbody>\n",
       "    <tr>\n",
       "      <th>0</th>\n",
       "      <td>i feel like my only role now would be to tear ...</td>\n",
       "      <td>sadness</td>\n",
       "    </tr>\n",
       "    <tr>\n",
       "      <th>1</th>\n",
       "      <td>i feel just bcoz a fight we get mad to each ot...</td>\n",
       "      <td>anger</td>\n",
       "    </tr>\n",
       "    <tr>\n",
       "      <th>2</th>\n",
       "      <td>i feel like reds and purples are just so rich ...</td>\n",
       "      <td>joy</td>\n",
       "    </tr>\n",
       "    <tr>\n",
       "      <th>3</th>\n",
       "      <td>im not sure the feeling of loss will ever go a...</td>\n",
       "      <td>sadness</td>\n",
       "    </tr>\n",
       "    <tr>\n",
       "      <th>4</th>\n",
       "      <td>i feel like ive gotten to know many of you thr...</td>\n",
       "      <td>joy</td>\n",
       "    </tr>\n",
       "  </tbody>\n",
       "</table>\n",
       "</div>"
      ],
      "text/plain": [
       "                                               texto sentimento\n",
       "0  i feel like my only role now would be to tear ...    sadness\n",
       "1  i feel just bcoz a fight we get mad to each ot...      anger\n",
       "2  i feel like reds and purples are just so rich ...        joy\n",
       "3  im not sure the feeling of loss will ever go a...    sadness\n",
       "4  i feel like ive gotten to know many of you thr...        joy"
      ]
     },
     "execution_count": 7,
     "metadata": {},
     "output_type": "execute_result"
    }
   ],
   "source": [
    "# Shape\n",
    "print(dados_dsa_treino.shape)\n",
    "# Sample\n",
    "dados_dsa_teste.head()"
   ]
  },
  {
   "cell_type": "code",
   "execution_count": 8,
   "id": "23178bb6",
   "metadata": {},
   "outputs": [
    {
     "data": {
      "text/plain": [
       "sentimento\n",
       "joy         5362\n",
       "sadness     4666\n",
       "anger       2159\n",
       "fear        1937\n",
       "love        1304\n",
       "surprise     572\n",
       "Name: count, dtype: int64"
      ]
     },
     "execution_count": 8,
     "metadata": {},
     "output_type": "execute_result"
    }
   ],
   "source": [
    "# Sentiment count train data\n",
    "dados_dsa_treino['sentimento'].value_counts()"
   ]
  },
  {
   "cell_type": "code",
   "execution_count": 9,
   "id": "1b330dc8",
   "metadata": {},
   "outputs": [
    {
     "data": {
      "text/plain": [
       "sentimento\n",
       "joy         695\n",
       "sadness     581\n",
       "anger       275\n",
       "fear        224\n",
       "love        159\n",
       "surprise     66\n",
       "Name: count, dtype: int64"
      ]
     },
     "execution_count": 9,
     "metadata": {},
     "output_type": "execute_result"
    }
   ],
   "source": [
    "# Sentiment count test data\n",
    "dados_dsa_teste['sentimento'].value_counts()"
   ]
  },
  {
   "cell_type": "markdown",
   "id": "4ccc4e94",
   "metadata": {},
   "source": [
    "### Pré- processamento dos dados\n",
    "https://spacy.io"
   ]
  },
  {
   "cell_type": "code",
   "execution_count": 11,
   "id": "1a6d968a",
   "metadata": {},
   "outputs": [
    {
     "name": "stdout",
     "output_type": "stream",
     "text": [
      "\u001b[38;5;2m✔ Download and installation successful\u001b[0m\n",
      "You can now load the package via spacy.load('en_core_web_md')\n"
     ]
    }
   ],
   "source": [
    "!python -m spacy download en_core_web_md -q"
   ]
  },
  {
   "cell_type": "code",
   "execution_count": 12,
   "id": "8528881a",
   "metadata": {},
   "outputs": [],
   "source": [
    "# Carrega o dicionário\n",
    "dsa_nlp = spacy.load('en_core_web_md')"
   ]
  },
  {
   "cell_type": "code",
   "execution_count": 13,
   "id": "2d398c22",
   "metadata": {},
   "outputs": [],
   "source": [
    "# Create a function that receives a text as parameter\n",
    "def das_preprocessa_text(text):\n",
    "\n",
    "    #Preprocess the text using a dictionaty\n",
    "    doc = dsa_nlp(text)\n",
    "\n",
    "    # Create a list with tokens in lower case and without white spaces and stopwords\n",
    "    tokens = [token.lemma_.lower().strip() for token in doc if not token.is_stop]\n",
    "\n",
    "    # Return preprocessed tokens as a unique line, joining by white spaces\n",
    "    return ' '.join(tokens)"
   ]
  },
  {
   "cell_type": "code",
   "execution_count": 14,
   "id": "e82e8655",
   "metadata": {},
   "outputs": [],
   "source": [
    "# Applying the function to train data\n",
    "dados_dsa_treino['texto_preprocessado'] = dados_dsa_treino['texto'].apply(das_preprocessa_text)"
   ]
  },
  {
   "cell_type": "code",
   "execution_count": 15,
   "id": "fe67999b",
   "metadata": {},
   "outputs": [],
   "source": [
    "# Applying the function to test data\n",
    "dados_dsa_teste['texto_preprocessado'] = dados_dsa_teste['texto'].apply(das_preprocessa_text)"
   ]
  },
  {
   "cell_type": "code",
   "execution_count": 16,
   "id": "4dc74fe9",
   "metadata": {},
   "outputs": [
    {
     "data": {
      "text/html": [
       "<div>\n",
       "<style scoped>\n",
       "    .dataframe tbody tr th:only-of-type {\n",
       "        vertical-align: middle;\n",
       "    }\n",
       "\n",
       "    .dataframe tbody tr th {\n",
       "        vertical-align: top;\n",
       "    }\n",
       "\n",
       "    .dataframe thead th {\n",
       "        text-align: right;\n",
       "    }\n",
       "</style>\n",
       "<table border=\"1\" class=\"dataframe\">\n",
       "  <thead>\n",
       "    <tr style=\"text-align: right;\">\n",
       "      <th></th>\n",
       "      <th>texto</th>\n",
       "      <th>sentimento</th>\n",
       "      <th>texto_preprocessado</th>\n",
       "    </tr>\n",
       "  </thead>\n",
       "  <tbody>\n",
       "    <tr>\n",
       "      <th>0</th>\n",
       "      <td>i am feeling completely overwhelmed i have two...</td>\n",
       "      <td>fear</td>\n",
       "      <td>feel completely overwhelmed strategy help feel...</td>\n",
       "    </tr>\n",
       "    <tr>\n",
       "      <th>1</th>\n",
       "      <td>i have the feeling she was amused and delighted</td>\n",
       "      <td>joy</td>\n",
       "      <td>feeling amuse delight</td>\n",
       "    </tr>\n",
       "    <tr>\n",
       "      <th>2</th>\n",
       "      <td>i was able to help chai lifeline with your sup...</td>\n",
       "      <td>joy</td>\n",
       "      <td>able help chai lifeline support encouragement ...</td>\n",
       "    </tr>\n",
       "    <tr>\n",
       "      <th>3</th>\n",
       "      <td>i already feel like i fucked up though because...</td>\n",
       "      <td>anger</td>\n",
       "      <td>feel like fuck not usually eat morning</td>\n",
       "    </tr>\n",
       "    <tr>\n",
       "      <th>4</th>\n",
       "      <td>i still love my so and wish the best for him i...</td>\n",
       "      <td>sadness</td>\n",
       "      <td>love wish good long tolerate effect bm life fa...</td>\n",
       "    </tr>\n",
       "  </tbody>\n",
       "</table>\n",
       "</div>"
      ],
      "text/plain": [
       "                                               texto sentimento  \\\n",
       "0  i am feeling completely overwhelmed i have two...       fear   \n",
       "1    i have the feeling she was amused and delighted        joy   \n",
       "2  i was able to help chai lifeline with your sup...        joy   \n",
       "3  i already feel like i fucked up though because...      anger   \n",
       "4  i still love my so and wish the best for him i...    sadness   \n",
       "\n",
       "                                 texto_preprocessado  \n",
       "0  feel completely overwhelmed strategy help feel...  \n",
       "1                              feeling amuse delight  \n",
       "2  able help chai lifeline support encouragement ...  \n",
       "3             feel like fuck not usually eat morning  \n",
       "4  love wish good long tolerate effect bm life fa...  "
      ]
     },
     "execution_count": 16,
     "metadata": {},
     "output_type": "execute_result"
    }
   ],
   "source": [
    "# Sample\n",
    "dados_dsa_treino.head()"
   ]
  },
  {
   "cell_type": "markdown",
   "id": "93f6fb1d",
   "metadata": {},
   "source": [
    "Version 1 - Fully Connected Neural Network Arquiteture\n"
   ]
  },
  {
   "cell_type": "markdown",
   "id": "68690a01",
   "metadata": {},
   "source": [
    "Step1: Using TF-IDF to vetorize"
   ]
  },
  {
   "cell_type": "code",
   "execution_count": 20,
   "id": "a705270e",
   "metadata": {},
   "outputs": [],
   "source": [
    "# Vectorization\n",
    "dsa_tfidf = TfidfVectorizer(max_df = 0.95, min_df = 2, stop_words = 'english')"
   ]
  },
  {
   "cell_type": "code",
   "execution_count": 58,
   "id": "8b7ee862",
   "metadata": {},
   "outputs": [],
   "source": [
    "# Apply vetorizarion\n",
    "dados_treino_tfidf = dsa_tfidf.fit_transform(dados_dsa_treino['texto_preprocessado'])\n",
    "dados_teste_tfidf = dsa_tfidf.transform(dados_dsa_teste['texto_preprocessado'])"
   ]
  },
  {
   "cell_type": "code",
   "execution_count": 59,
   "id": "7319270f",
   "metadata": {},
   "outputs": [
    {
     "data": {
      "text/plain": [
       "(16000, 5587)"
      ]
     },
     "execution_count": 59,
     "metadata": {},
     "output_type": "execute_result"
    }
   ],
   "source": [
    "dados_treino_tfidf.shape"
   ]
  },
  {
   "cell_type": "code",
   "execution_count": 60,
   "id": "db172482",
   "metadata": {},
   "outputs": [
    {
     "data": {
      "text/plain": [
       "(2000, 5587)"
      ]
     },
     "execution_count": 60,
     "metadata": {},
     "output_type": "execute_result"
    }
   ],
   "source": [
    "dados_teste_tfidf.shape"
   ]
  },
  {
   "cell_type": "code",
   "execution_count": 61,
   "id": "4e8fd795",
   "metadata": {},
   "outputs": [
    {
     "data": {
      "text/plain": [
       "scipy.sparse._csr.csr_matrix"
      ]
     },
     "execution_count": 61,
     "metadata": {},
     "output_type": "execute_result"
    }
   ],
   "source": [
    "type(dados_treino_tfidf)"
   ]
  },
  {
   "cell_type": "code",
   "execution_count": 62,
   "id": "81144c10",
   "metadata": {},
   "outputs": [],
   "source": [
    "# converting data entry to array\n",
    "X_treino_array = dados_treino_tfidf.toarray()\n",
    "X_teste_array = dados_teste_tfidf.toarray()"
   ]
  },
  {
   "cell_type": "markdown",
   "id": "4149348c",
   "metadata": {},
   "source": [
    "Step 2: Preparing the data  \n",
    "We need to  convert the target feature to a numeric representation. We are going to use Label Encoding"
   ]
  },
  {
   "cell_type": "code",
   "execution_count": 63,
   "id": "39443b78",
   "metadata": {},
   "outputs": [],
   "source": [
    "# Creating Label encoder\n",
    "dsa_le = LabelEncoder()"
   ]
  },
  {
   "cell_type": "code",
   "execution_count": 64,
   "id": "69558d7d",
   "metadata": {},
   "outputs": [],
   "source": [
    "# Fit and transform the target feature in train and test\n",
    "y_treino_le = dsa_le.fit_transform(dados_dsa_treino['sentimento'])\n",
    "y_teste_le = dsa_le.transform(dados_dsa_teste['sentimento'])"
   ]
  },
  {
   "cell_type": "code",
   "execution_count": 65,
   "id": "34151cdb",
   "metadata": {},
   "outputs": [],
   "source": [
    "# Class weigth\n",
    "pesos_classes = compute_class_weight('balanced', classes = np.unique(y_treino_le), y = y_treino_le)"
   ]
  },
  {
   "cell_type": "code",
   "execution_count": 66,
   "id": "0ab45726",
   "metadata": {},
   "outputs": [],
   "source": [
    "# Spliting the data in train and test (validation)\n",
    "X_treino, X_val, y_treino, y_val = train_test_split(X_treino_array,\n",
    "                                                   y_treino_le,\n",
    "                                                   test_size=  0.2,\n",
    "                                                   random_state= 42,\n",
    "                                                   stratify= y_treino_le)"
   ]
  },
  {
   "cell_type": "code",
   "execution_count": 80,
   "id": "8d214d9f",
   "metadata": {},
   "outputs": [],
   "source": [
    "# Identify the target feature as categoric\n",
    "y_treino_encoded = to_categorical(y_treino)\n",
    "y_teste_encoded = to_categorical(y_teste_le)\n",
    "y_val_encoded = to_categorical(y_val)\n"
   ]
  },
  {
   "cell_type": "code",
   "execution_count": 81,
   "id": "b30092cd",
   "metadata": {},
   "outputs": [
    {
     "data": {
      "text/plain": [
       "((12800, 6), (2000, 6), (3200, 6))"
      ]
     },
     "execution_count": 81,
     "metadata": {},
     "output_type": "execute_result"
    }
   ],
   "source": [
    "# Shape\n",
    "y_treino_encoded.shape, y_teste_encoded.shape, y_val_encoded.shape"
   ]
  },
  {
   "cell_type": "code",
   "execution_count": 79,
   "id": "4f95df78",
   "metadata": {},
   "outputs": [
    {
     "data": {
      "text/plain": [
       "((12800, 5587), (2000, 5587), (3200, 5587))"
      ]
     },
     "execution_count": 79,
     "metadata": {},
     "output_type": "execute_result"
    }
   ],
   "source": [
    "X_treino.shape, X_teste_array.shape, X_val.shape"
   ]
  },
  {
   "cell_type": "markdown",
   "id": "b3a2c5c3",
   "metadata": {},
   "source": [
    "Step 3: Creating the model"
   ]
  },
  {
   "cell_type": "code",
   "execution_count": 82,
   "id": "a06ce458",
   "metadata": {},
   "outputs": [
    {
     "name": "stderr",
     "output_type": "stream",
     "text": [
      "c:\\Users\\erika\\anaconda3\\envs\\sentimento\\lib\\site-packages\\keras\\src\\layers\\core\\dense.py:93: UserWarning: Do not pass an `input_shape`/`input_dim` argument to a layer. When using Sequential models, prefer using an `Input(shape)` object as the first layer in the model instead.\n",
      "  super().__init__(activity_regularizer=activity_regularizer, **kwargs)\n"
     ]
    }
   ],
   "source": [
    "# Inicialize a sequential model. Sequential model are a linear stack of layers\n",
    "modelo_dsa_v1 = Sequential()\n",
    "\n",
    "# Add the first dense layer (fully-connected) to the model\n",
    "modelo_dsa_v1.add(Dense(4096,\n",
    "                        # Uzing SELU function (Scaled Exponential Linear Unit)\n",
    "                        activation= 'selu',\n",
    "\n",
    "                        # Initialize weights with LeCun normal distribution\n",
    "                        kernel_initializer = 'lecun_normal',\n",
    "\n",
    "                        # Define the entry formt based on X_treino features number\n",
    "                        input_shape = (X_treino.shape[1],),\n",
    "\n",
    "                        # Apply L2 regularization to reduce overfitting\n",
    "                        kernel_regularizer = tf.keras.regularizers.l2(0.01)\n",
    "                         \n",
    "                         ))\n",
    "\n",
    "# Add second dense layer\n",
    "modelo_dsa_v1.add(Dense(2048,\n",
    "                        activation = 'selu',\n",
    "                        kernel_initializer= 'lecun_normal',\n",
    "                        kernel_regularizer= tf.keras.regularizers.l2(0.01) ))\n",
    "\n",
    "# Add third dense layer\n",
    "modelo_dsa_v1.add(Dense(1024,\n",
    "                        activation= 'selu',\n",
    "                        kernel_initializer= 'lecun_normal',\n",
    "                        kernel_regularizer= tf.keras.regularizers.l2(0.1)))\n",
    "\n",
    "# Add the forth dense layer\n",
    "# Layer with 64 neuron and SELU activation\n",
    "modelo_dsa_v1.add(Dense( 64, activation= 'selu'))\n",
    "\n",
    "# Add the output layer\n",
    "# layer with 6 neurons and softmax ativation to multiclass classification\n",
    "modelo_dsa_v1.add(Dense(6, activation= 'softmax'))\n"
   ]
  },
  {
   "cell_type": "markdown",
   "id": "2ad0558f",
   "metadata": {},
   "source": [
    "Step 4: Model compilation and summary"
   ]
  },
  {
   "cell_type": "code",
   "execution_count": 83,
   "id": "c2006e0d",
   "metadata": {},
   "outputs": [
    {
     "data": {
      "text/plain": [
       "<tf.Tensor: shape=(6,), dtype=float32, numpy=\n",
       "array([1.2351397 , 1.3766993 , 0.49732688, 2.0449898 , 0.5715102 ,\n",
       "       4.6620045 ], dtype=float32)>"
      ]
     },
     "execution_count": 83,
     "metadata": {},
     "output_type": "execute_result"
    }
   ],
   "source": [
    "# Assigning specific weight to the bias vector for the last layer\n",
    "modelo_dsa_v1.layers[-1].bias.assign(pesos_classes)"
   ]
  },
  {
   "cell_type": "code",
   "execution_count": 84,
   "id": "4dda793c",
   "metadata": {},
   "outputs": [],
   "source": [
    "# Model compilation  \n",
    "modelo_dsa_v1.compile(optimizer = 'Adam',\n",
    "                      loss = tf.losses.categorical_crossentropy,\n",
    "                      metrics = ['accuracy'])"
   ]
  },
  {
   "cell_type": "code",
   "execution_count": 85,
   "id": "45cc6075",
   "metadata": {},
   "outputs": [
    {
     "data": {
      "text/html": [
       "<pre style=\"white-space:pre;overflow-x:auto;line-height:normal;font-family:Menlo,'DejaVu Sans Mono',consolas,'Courier New',monospace\"><span style=\"font-weight: bold\">Model: \"sequential_2\"</span>\n",
       "</pre>\n"
      ],
      "text/plain": [
       "\u001b[1mModel: \"sequential_2\"\u001b[0m\n"
      ]
     },
     "metadata": {},
     "output_type": "display_data"
    },
    {
     "data": {
      "text/html": [
       "<pre style=\"white-space:pre;overflow-x:auto;line-height:normal;font-family:Menlo,'DejaVu Sans Mono',consolas,'Courier New',monospace\">┏━━━━━━━━━━━━━━━━━━━━━━━━━━━━━━━━━┳━━━━━━━━━━━━━━━━━━━━━━━━┳━━━━━━━━━━━━━━━┓\n",
       "┃<span style=\"font-weight: bold\"> Layer (type)                    </span>┃<span style=\"font-weight: bold\"> Output Shape           </span>┃<span style=\"font-weight: bold\">       Param # </span>┃\n",
       "┡━━━━━━━━━━━━━━━━━━━━━━━━━━━━━━━━━╇━━━━━━━━━━━━━━━━━━━━━━━━╇━━━━━━━━━━━━━━━┩\n",
       "│ dense_10 (<span style=\"color: #0087ff; text-decoration-color: #0087ff\">Dense</span>)                │ (<span style=\"color: #00d7ff; text-decoration-color: #00d7ff\">None</span>, <span style=\"color: #00af00; text-decoration-color: #00af00\">4096</span>)           │    <span style=\"color: #00af00; text-decoration-color: #00af00\">22,888,448</span> │\n",
       "├─────────────────────────────────┼────────────────────────┼───────────────┤\n",
       "│ dense_11 (<span style=\"color: #0087ff; text-decoration-color: #0087ff\">Dense</span>)                │ (<span style=\"color: #00d7ff; text-decoration-color: #00d7ff\">None</span>, <span style=\"color: #00af00; text-decoration-color: #00af00\">2048</span>)           │     <span style=\"color: #00af00; text-decoration-color: #00af00\">8,390,656</span> │\n",
       "├─────────────────────────────────┼────────────────────────┼───────────────┤\n",
       "│ dense_12 (<span style=\"color: #0087ff; text-decoration-color: #0087ff\">Dense</span>)                │ (<span style=\"color: #00d7ff; text-decoration-color: #00d7ff\">None</span>, <span style=\"color: #00af00; text-decoration-color: #00af00\">1024</span>)           │     <span style=\"color: #00af00; text-decoration-color: #00af00\">2,098,176</span> │\n",
       "├─────────────────────────────────┼────────────────────────┼───────────────┤\n",
       "│ dense_13 (<span style=\"color: #0087ff; text-decoration-color: #0087ff\">Dense</span>)                │ (<span style=\"color: #00d7ff; text-decoration-color: #00d7ff\">None</span>, <span style=\"color: #00af00; text-decoration-color: #00af00\">64</span>)             │        <span style=\"color: #00af00; text-decoration-color: #00af00\">65,600</span> │\n",
       "├─────────────────────────────────┼────────────────────────┼───────────────┤\n",
       "│ dense_14 (<span style=\"color: #0087ff; text-decoration-color: #0087ff\">Dense</span>)                │ (<span style=\"color: #00d7ff; text-decoration-color: #00d7ff\">None</span>, <span style=\"color: #00af00; text-decoration-color: #00af00\">6</span>)              │           <span style=\"color: #00af00; text-decoration-color: #00af00\">390</span> │\n",
       "└─────────────────────────────────┴────────────────────────┴───────────────┘\n",
       "</pre>\n"
      ],
      "text/plain": [
       "┏━━━━━━━━━━━━━━━━━━━━━━━━━━━━━━━━━┳━━━━━━━━━━━━━━━━━━━━━━━━┳━━━━━━━━━━━━━━━┓\n",
       "┃\u001b[1m \u001b[0m\u001b[1mLayer (type)                   \u001b[0m\u001b[1m \u001b[0m┃\u001b[1m \u001b[0m\u001b[1mOutput Shape          \u001b[0m\u001b[1m \u001b[0m┃\u001b[1m \u001b[0m\u001b[1m      Param #\u001b[0m\u001b[1m \u001b[0m┃\n",
       "┡━━━━━━━━━━━━━━━━━━━━━━━━━━━━━━━━━╇━━━━━━━━━━━━━━━━━━━━━━━━╇━━━━━━━━━━━━━━━┩\n",
       "│ dense_10 (\u001b[38;5;33mDense\u001b[0m)                │ (\u001b[38;5;45mNone\u001b[0m, \u001b[38;5;34m4096\u001b[0m)           │    \u001b[38;5;34m22,888,448\u001b[0m │\n",
       "├─────────────────────────────────┼────────────────────────┼───────────────┤\n",
       "│ dense_11 (\u001b[38;5;33mDense\u001b[0m)                │ (\u001b[38;5;45mNone\u001b[0m, \u001b[38;5;34m2048\u001b[0m)           │     \u001b[38;5;34m8,390,656\u001b[0m │\n",
       "├─────────────────────────────────┼────────────────────────┼───────────────┤\n",
       "│ dense_12 (\u001b[38;5;33mDense\u001b[0m)                │ (\u001b[38;5;45mNone\u001b[0m, \u001b[38;5;34m1024\u001b[0m)           │     \u001b[38;5;34m2,098,176\u001b[0m │\n",
       "├─────────────────────────────────┼────────────────────────┼───────────────┤\n",
       "│ dense_13 (\u001b[38;5;33mDense\u001b[0m)                │ (\u001b[38;5;45mNone\u001b[0m, \u001b[38;5;34m64\u001b[0m)             │        \u001b[38;5;34m65,600\u001b[0m │\n",
       "├─────────────────────────────────┼────────────────────────┼───────────────┤\n",
       "│ dense_14 (\u001b[38;5;33mDense\u001b[0m)                │ (\u001b[38;5;45mNone\u001b[0m, \u001b[38;5;34m6\u001b[0m)              │           \u001b[38;5;34m390\u001b[0m │\n",
       "└─────────────────────────────────┴────────────────────────┴───────────────┘\n"
      ]
     },
     "metadata": {},
     "output_type": "display_data"
    },
    {
     "data": {
      "text/html": [
       "<pre style=\"white-space:pre;overflow-x:auto;line-height:normal;font-family:Menlo,'DejaVu Sans Mono',consolas,'Courier New',monospace\"><span style=\"font-weight: bold\"> Total params: </span><span style=\"color: #00af00; text-decoration-color: #00af00\">33,443,270</span> (127.58 MB)\n",
       "</pre>\n"
      ],
      "text/plain": [
       "\u001b[1m Total params: \u001b[0m\u001b[38;5;34m33,443,270\u001b[0m (127.58 MB)\n"
      ]
     },
     "metadata": {},
     "output_type": "display_data"
    },
    {
     "data": {
      "text/html": [
       "<pre style=\"white-space:pre;overflow-x:auto;line-height:normal;font-family:Menlo,'DejaVu Sans Mono',consolas,'Courier New',monospace\"><span style=\"font-weight: bold\"> Trainable params: </span><span style=\"color: #00af00; text-decoration-color: #00af00\">33,443,270</span> (127.58 MB)\n",
       "</pre>\n"
      ],
      "text/plain": [
       "\u001b[1m Trainable params: \u001b[0m\u001b[38;5;34m33,443,270\u001b[0m (127.58 MB)\n"
      ]
     },
     "metadata": {},
     "output_type": "display_data"
    },
    {
     "data": {
      "text/html": [
       "<pre style=\"white-space:pre;overflow-x:auto;line-height:normal;font-family:Menlo,'DejaVu Sans Mono',consolas,'Courier New',monospace\"><span style=\"font-weight: bold\"> Non-trainable params: </span><span style=\"color: #00af00; text-decoration-color: #00af00\">0</span> (0.00 B)\n",
       "</pre>\n"
      ],
      "text/plain": [
       "\u001b[1m Non-trainable params: \u001b[0m\u001b[38;5;34m0\u001b[0m (0.00 B)\n"
      ]
     },
     "metadata": {},
     "output_type": "display_data"
    }
   ],
   "source": [
    "modelo_dsa_v1.summary()"
   ]
  },
  {
   "cell_type": "markdown",
   "id": "26018bdb",
   "metadata": {},
   "source": [
    "Step 5: Callbacks and Early Stopping"
   ]
  },
  {
   "cell_type": "code",
   "execution_count": 86,
   "id": "d5ee0c65",
   "metadata": {},
   "outputs": [],
   "source": [
    "# Function to the parameters on the learning rate scheduler\n",
    "def step_decay(epoch):\n",
    "    initial_lrate = 0.001\n",
    "    drop = 0.5\n",
    "    epochs_drop = 10.0\n",
    "    lrate = initial_lrate * math.pow(drop, math.floor((1 + epoch) / epochs_drop))\n",
    "    return lrate \n",
    "\n"
   ]
  },
  {
   "cell_type": "code",
   "execution_count": 87,
   "id": "7b254d8b",
   "metadata": {},
   "outputs": [],
   "source": [
    "# Learnign rate Scheduler\n",
    "lr_scheduler = LearningRateScheduler(step_decay)"
   ]
  },
  {
   "cell_type": "code",
   "execution_count": 88,
   "id": "0ec7a062",
   "metadata": {},
   "outputs": [],
   "source": [
    "# Early stopping\n",
    "early_stopping= EarlyStopping(monitor = 'val_loss', restore_best_weights = True, patience= 3)"
   ]
  },
  {
   "cell_type": "markdown",
   "id": "a83b5e6d",
   "metadata": {},
   "source": [
    "Step 6: Train the model"
   ]
  },
  {
   "cell_type": "code",
   "execution_count": 89,
   "id": "119c896f",
   "metadata": {},
   "outputs": [],
   "source": [
    "# hypermarameters\n",
    "num_epochs = 20\n",
    "tamanho_batch = 256"
   ]
  },
  {
   "cell_type": "code",
   "execution_count": 90,
   "id": "e00bc670",
   "metadata": {},
   "outputs": [
    {
     "name": "stdout",
     "output_type": "stream",
     "text": [
      "Epoch 1/20\n",
      "\u001b[1m50/50\u001b[0m \u001b[32m━━━━━━━━━━━━━━━━━━━━\u001b[0m\u001b[37m\u001b[0m \u001b[1m14s\u001b[0m 260ms/step - accuracy: 0.4803 - loss: 77.7735 - val_accuracy: 0.7513 - val_loss: 2.2694 - learning_rate: 0.0010\n",
      "Epoch 2/20\n",
      "\u001b[1m50/50\u001b[0m \u001b[32m━━━━━━━━━━━━━━━━━━━━\u001b[0m\u001b[37m\u001b[0m \u001b[1m13s\u001b[0m 255ms/step - accuracy: 0.8037 - loss: 1.6938 - val_accuracy: 0.7987 - val_loss: 1.3625 - learning_rate: 0.0010\n",
      "Epoch 3/20\n",
      "\u001b[1m50/50\u001b[0m \u001b[32m━━━━━━━━━━━━━━━━━━━━\u001b[0m\u001b[37m\u001b[0m \u001b[1m13s\u001b[0m 262ms/step - accuracy: 0.8371 - loss: 1.2099 - val_accuracy: 0.8053 - val_loss: 1.2842 - learning_rate: 0.0010\n",
      "Epoch 4/20\n",
      "\u001b[1m50/50\u001b[0m \u001b[32m━━━━━━━━━━━━━━━━━━━━\u001b[0m\u001b[37m\u001b[0m \u001b[1m13s\u001b[0m 264ms/step - accuracy: 0.8548 - loss: 1.1079 - val_accuracy: 0.8281 - val_loss: 1.0955 - learning_rate: 0.0010\n",
      "Epoch 5/20\n",
      "\u001b[1m50/50\u001b[0m \u001b[32m━━━━━━━━━━━━━━━━━━━━\u001b[0m\u001b[37m\u001b[0m \u001b[1m13s\u001b[0m 268ms/step - accuracy: 0.8955 - loss: 0.9291 - val_accuracy: 0.8213 - val_loss: 1.1351 - learning_rate: 0.0010\n",
      "Epoch 6/20\n",
      "\u001b[1m50/50\u001b[0m \u001b[32m━━━━━━━━━━━━━━━━━━━━\u001b[0m\u001b[37m\u001b[0m \u001b[1m16s\u001b[0m 319ms/step - accuracy: 0.9021 - loss: 0.9132 - val_accuracy: 0.8297 - val_loss: 1.0908 - learning_rate: 0.0010\n",
      "Epoch 7/20\n",
      "\u001b[1m50/50\u001b[0m \u001b[32m━━━━━━━━━━━━━━━━━━━━\u001b[0m\u001b[37m\u001b[0m \u001b[1m16s\u001b[0m 324ms/step - accuracy: 0.9243 - loss: 0.8361 - val_accuracy: 0.8203 - val_loss: 1.1293 - learning_rate: 0.0010\n",
      "Epoch 8/20\n",
      "\u001b[1m50/50\u001b[0m \u001b[32m━━━━━━━━━━━━━━━━━━━━\u001b[0m\u001b[37m\u001b[0m \u001b[1m16s\u001b[0m 329ms/step - accuracy: 0.9239 - loss: 0.8347 - val_accuracy: 0.8291 - val_loss: 1.0894 - learning_rate: 0.0010\n",
      "Epoch 9/20\n",
      "\u001b[1m50/50\u001b[0m \u001b[32m━━━━━━━━━━━━━━━━━━━━\u001b[0m\u001b[37m\u001b[0m \u001b[1m16s\u001b[0m 321ms/step - accuracy: 0.9366 - loss: 0.7902 - val_accuracy: 0.8416 - val_loss: 1.0762 - learning_rate: 0.0010\n",
      "Epoch 10/20\n",
      "\u001b[1m50/50\u001b[0m \u001b[32m━━━━━━━━━━━━━━━━━━━━\u001b[0m\u001b[37m\u001b[0m \u001b[1m16s\u001b[0m 327ms/step - accuracy: 0.9603 - loss: 0.6730 - val_accuracy: 0.8459 - val_loss: 0.7898 - learning_rate: 5.0000e-04\n",
      "Epoch 11/20\n",
      "\u001b[1m50/50\u001b[0m \u001b[32m━━━━━━━━━━━━━━━━━━━━\u001b[0m\u001b[37m\u001b[0m \u001b[1m16s\u001b[0m 326ms/step - accuracy: 0.9716 - loss: 0.4698 - val_accuracy: 0.8447 - val_loss: 0.7440 - learning_rate: 5.0000e-04\n",
      "Epoch 12/20\n",
      "\u001b[1m50/50\u001b[0m \u001b[32m━━━━━━━━━━━━━━━━━━━━\u001b[0m\u001b[37m\u001b[0m \u001b[1m16s\u001b[0m 327ms/step - accuracy: 0.9752 - loss: 0.4313 - val_accuracy: 0.8434 - val_loss: 0.7543 - learning_rate: 5.0000e-04\n",
      "Epoch 13/20\n",
      "\u001b[1m50/50\u001b[0m \u001b[32m━━━━━━━━━━━━━━━━━━━━\u001b[0m\u001b[37m\u001b[0m \u001b[1m16s\u001b[0m 327ms/step - accuracy: 0.9756 - loss: 0.4366 - val_accuracy: 0.8431 - val_loss: 0.7545 - learning_rate: 5.0000e-04\n",
      "Epoch 14/20\n",
      "\u001b[1m50/50\u001b[0m \u001b[32m━━━━━━━━━━━━━━━━━━━━\u001b[0m\u001b[37m\u001b[0m \u001b[1m16s\u001b[0m 326ms/step - accuracy: 0.9766 - loss: 0.4153 - val_accuracy: 0.8334 - val_loss: 0.7838 - learning_rate: 5.0000e-04\n",
      "CPU times: total: 22min 49s\n",
      "Wall time: 3min 33s\n"
     ]
    }
   ],
   "source": [
    "%%time\n",
    "history = modelo_dsa_v1.fit( X_treino,\n",
    "                            y_treino_encoded,\n",
    "                            validation_data = (X_val, y_val_encoded),\n",
    "                            epochs = num_epochs,\n",
    "                            batch_size = tamanho_batch,\n",
    "                            callbacks = [early_stopping, lr_scheduler]\n",
    "                            )"
   ]
  },
  {
   "cell_type": "markdown",
   "id": "3ce78c6b",
   "metadata": {},
   "source": [
    "Step 7: Model validation\n"
   ]
  },
  {
   "cell_type": "code",
   "execution_count": 47,
   "id": "f71567e7",
   "metadata": {},
   "outputs": [],
   "source": [
    "# Extracting loss error in train and validation\n",
    "loss, val_loss = history.history['loss'], history.history['val_loss']"
   ]
  },
  {
   "cell_type": "code",
   "execution_count": 48,
   "id": "524b97ca",
   "metadata": {},
   "outputs": [
    {
     "data": {
      "image/png": "[encoded data removed]",
      "text/plain": [
       "<Figure size 640x480 with 1 Axes>"
      ]
     },
     "metadata": {},
     "output_type": "display_data"
    }
   ],
   "source": [
    "# Plot\n",
    "plt.plot(loss, label = 'loss')\n",
    "plt.plot(val_loss, label = 'val_loss')\n",
    "plt.legend()\n",
    "plt.show()"
   ]
  },
  {
   "cell_type": "code",
   "execution_count": 50,
   "id": "8bcc6d04",
   "metadata": {},
   "outputs": [
    {
     "name": "stdout",
     "output_type": "stream",
     "text": [
      "(16000, 5587)\n"
     ]
    }
   ],
   "source": [
    "print(X_treino_array.shape)\n"
   ]
  },
  {
   "cell_type": "code",
   "execution_count": 51,
   "id": "34f95a96",
   "metadata": {},
   "outputs": [
    {
     "name": "stdout",
     "output_type": "stream",
     "text": [
      "(2000, 1563)\n"
     ]
    }
   ],
   "source": [
    "print(X_teste_array.shape)\n"
   ]
  },
  {
   "cell_type": "code",
   "execution_count": 91,
   "id": "64475d05",
   "metadata": {},
   "outputs": [
    {
     "name": "stdout",
     "output_type": "stream",
     "text": [
      "\u001b[1m63/63\u001b[0m \u001b[32m━━━━━━━━━━━━━━━━━━━━\u001b[0m\u001b[37m\u001b[0m \u001b[1m1s\u001b[0m 13ms/step\n"
     ]
    }
   ],
   "source": [
    "# Predictions\n",
    "previsoes_v1 = modelo_dsa_v1.predict(X_teste_array)"
   ]
  },
  {
   "cell_type": "code",
   "execution_count": 92,
   "id": "8acfa3c8",
   "metadata": {},
   "outputs": [],
   "source": [
    "# Extract labels\n",
    "previsoes_v1_labels = previsoes_v1.argmax(axis = 1)"
   ]
  },
  {
   "cell_type": "code",
   "execution_count": 93,
   "id": "17122f8d",
   "metadata": {},
   "outputs": [
    {
     "name": "stdout",
     "output_type": "stream",
     "text": [
      "              precision    recall  f1-score   support\n",
      "\n",
      "           0       0.88      0.81      0.84       275\n",
      "           1       0.81      0.83      0.82       224\n",
      "           2       0.87      0.91      0.89       695\n",
      "           3       0.72      0.73      0.72       159\n",
      "           4       0.89      0.88      0.89       581\n",
      "           5       0.74      0.61      0.67        66\n",
      "\n",
      "    accuracy                           0.85      2000\n",
      "   macro avg       0.82      0.79      0.80      2000\n",
      "weighted avg       0.85      0.85      0.85      2000\n",
      "\n"
     ]
    }
   ],
   "source": [
    "print(classification_report(y_teste_le, previsoes_v1_labels))"
   ]
  },
  {
   "cell_type": "code",
   "execution_count": 94,
   "id": "d4c4feec",
   "metadata": {},
   "outputs": [
    {
     "name": "stdout",
     "output_type": "stream",
     "text": [
      "[[224  11   7   4  29   0]\n",
      " [ 12 185  11   0   8   8]\n",
      " [  5   3 631  38  14   4]\n",
      " [  1   1  31 116   9   1]\n",
      " [ 13  15  36   4 512   1]\n",
      " [  1  14  10   0   1  40]]\n"
     ]
    }
   ],
   "source": [
    "print(confusion_matrix(y_teste_le, previsoes_v1_labels))"
   ]
  },
  {
   "cell_type": "code",
   "execution_count": 95,
   "id": "215f3ede",
   "metadata": {},
   "outputs": [
    {
     "name": "stdout",
     "output_type": "stream",
     "text": [
      "0.854\n"
     ]
    }
   ],
   "source": [
    "print(accuracy_score(y_teste_le, previsoes_v1_labels))"
   ]
  },
  {
   "cell_type": "code",
   "execution_count": 96,
   "id": "6b94ee0b",
   "metadata": {},
   "outputs": [],
   "source": [
    "# Save the model\n",
    "modelo_dsa_v1.save('modelo_dsa_v1.keras')"
   ]
  },
  {
   "cell_type": "markdown",
   "id": "470e9ab2",
   "metadata": {},
   "source": [
    "Step 8: Deploy verson 1"
   ]
  },
  {
   "cell_type": "code",
   "execution_count": 98,
   "id": "19198818",
   "metadata": {},
   "outputs": [],
   "source": [
    "# using the saved model\n",
    "modelo_carregado = load_model('modelo_dsa_v1.keras')"
   ]
  },
  {
   "cell_type": "code",
   "execution_count": 99,
   "id": "58856fa1",
   "metadata": {},
   "outputs": [],
   "source": [
    "frase = 'i even feel a little shaky'"
   ]
  },
  {
   "cell_type": "code",
   "execution_count": 100,
   "id": "2a83004d",
   "metadata": {},
   "outputs": [],
   "source": [
    "# create a dataframe with the phrase\n",
    "df_novo = pd.DataFrame({\"Frase\" : [frase]})\n"
   ]
  },
  {
   "cell_type": "code",
   "execution_count": 101,
   "id": "bf29413d",
   "metadata": {},
   "outputs": [],
   "source": [
    "df_novo['Frase_Processada'] = df_novo['Frase'].apply(das_preprocessa_text)"
   ]
  },
  {
   "cell_type": "code",
   "execution_count": 102,
   "id": "e7749741",
   "metadata": {},
   "outputs": [
    {
     "data": {
      "text/html": [
       "<div>\n",
       "<style scoped>\n",
       "    .dataframe tbody tr th:only-of-type {\n",
       "        vertical-align: middle;\n",
       "    }\n",
       "\n",
       "    .dataframe tbody tr th {\n",
       "        vertical-align: top;\n",
       "    }\n",
       "\n",
       "    .dataframe thead th {\n",
       "        text-align: right;\n",
       "    }\n",
       "</style>\n",
       "<table border=\"1\" class=\"dataframe\">\n",
       "  <thead>\n",
       "    <tr style=\"text-align: right;\">\n",
       "      <th></th>\n",
       "      <th>Frase</th>\n",
       "      <th>Frase_Processada</th>\n",
       "    </tr>\n",
       "  </thead>\n",
       "  <tbody>\n",
       "    <tr>\n",
       "      <th>0</th>\n",
       "      <td>i even feel a little shaky</td>\n",
       "      <td>feel little shaky</td>\n",
       "    </tr>\n",
       "  </tbody>\n",
       "</table>\n",
       "</div>"
      ],
      "text/plain": [
       "                        Frase   Frase_Processada\n",
       "0  i even feel a little shaky  feel little shaky"
      ]
     },
     "execution_count": 102,
     "metadata": {},
     "output_type": "execute_result"
    }
   ],
   "source": [
    "df_novo"
   ]
  },
  {
   "cell_type": "code",
   "execution_count": 104,
   "id": "14fbcc78",
   "metadata": {},
   "outputs": [],
   "source": [
    "# Applying vetorization\n",
    "df_novo_tfidf = dsa_tfidf.transform(df_novo['Frase_Processada'])"
   ]
  },
  {
   "cell_type": "code",
   "execution_count": 105,
   "id": "1707bbe2",
   "metadata": {},
   "outputs": [],
   "source": [
    "# Tranform to array \n",
    "df_novo_array = df_novo_tfidf.toarray()"
   ]
  },
  {
   "cell_type": "code",
   "execution_count": 106,
   "id": "ebe8ce65",
   "metadata": {},
   "outputs": [
    {
     "name": "stdout",
     "output_type": "stream",
     "text": [
      "\u001b[1m1/1\u001b[0m \u001b[32m━━━━━━━━━━━━━━━━━━━━\u001b[0m\u001b[37m\u001b[0m \u001b[1m0s\u001b[0m 89ms/step\n"
     ]
    }
   ],
   "source": [
    "# Predictions\n",
    "previsoes = modelo_carregado.predict(df_novo_array)"
   ]
  },
  {
   "cell_type": "code",
   "execution_count": 109,
   "id": "1dd82f6d",
   "metadata": {},
   "outputs": [
    {
     "data": {
      "text/plain": [
       "array([[5.4509460e-04, 9.9794358e-01, 9.3151949e-04, 1.1080231e-06,\n",
       "        7.0243419e-05, 5.0846284e-04]], dtype=float32)"
      ]
     },
     "execution_count": 109,
     "metadata": {},
     "output_type": "execute_result"
    }
   ],
   "source": [
    "previsoes"
   ]
  },
  {
   "cell_type": "code",
   "execution_count": 107,
   "id": "9b015947",
   "metadata": {},
   "outputs": [],
   "source": [
    "# Selecting the highest probability class\n",
    "classe_maior_prob = np.argmax(previsoes, axis = 1)"
   ]
  },
  {
   "cell_type": "code",
   "execution_count": 108,
   "id": "f3489dd9",
   "metadata": {},
   "outputs": [
    {
     "data": {
      "text/plain": [
       "array([1])"
      ]
     },
     "execution_count": 108,
     "metadata": {},
     "output_type": "execute_result"
    }
   ],
   "source": [
    "classe_maior_prob"
   ]
  },
  {
   "cell_type": "code",
   "execution_count": 110,
   "id": "9fc98847",
   "metadata": {},
   "outputs": [],
   "source": [
    "# Get the class name\n",
    "nome_classe = dsa_le.inverse_transform(classe_maior_prob)"
   ]
  },
  {
   "cell_type": "code",
   "execution_count": 111,
   "id": "95d73c4c",
   "metadata": {},
   "outputs": [
    {
     "data": {
      "text/plain": [
       "array(['fear'], dtype=object)"
      ]
     },
     "execution_count": 111,
     "metadata": {},
     "output_type": "execute_result"
    }
   ],
   "source": [
    "nome_classe"
   ]
  },
  {
   "cell_type": "code",
   "execution_count": null,
   "id": "17234dc4",
   "metadata": {},
   "outputs": [],
   "source": []
  }
 ],
 "metadata": {
  "kernelspec": {
   "display_name": "sentimento",
   "language": "python",
   "name": "python3"
  },
  "language_info": {
   "codemirror_mode": {
    "name": "ipython",
    "version": 3
   },
   "file_extension": ".py",
   "mimetype": "text/x-python",
   "name": "python",
   "nbconvert_exporter": "python",
   "pygments_lexer": "ipython3",
   "version": "3.10.18"
  }
 },
 "nbformat": 4,
 "nbformat_minor": 5
}
